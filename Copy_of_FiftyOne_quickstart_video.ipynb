{
  "cells": [
    {
      "cell_type": "markdown",
      "metadata": {
        "id": "view-in-github",
        "colab_type": "text"
      },
      "source": [
        "<a href=\"https://colab.research.google.com/github/DWSuryo/fiftyone-cv-practice/blob/main/Copy_of_FiftyOne_quickstart_video.ipynb\" target=\"_parent\"><img src=\"https://colab.research.google.com/assets/colab-badge.svg\" alt=\"Open In Colab\"/></a>"
      ]
    },
    {
      "cell_type": "markdown",
      "id": "22c61f12-0fa2-4984-b72b-3f1389f3b54b",
      "metadata": {
        "id": "22c61f12-0fa2-4984-b72b-3f1389f3b54b"
      },
      "source": [
        "# FiftyOne video walkthrough (quickstart-video)"
      ]
    },
    {
      "cell_type": "markdown",
      "source": [
        "## FiftyOne Installation\n",
        "\n",
        "Also installing ffmpeg for viewing video dataset"
      ],
      "metadata": {
        "id": "-paFeXP3EoRH"
      },
      "id": "-paFeXP3EoRH"
    },
    {
      "cell_type": "code",
      "source": [
        "!pip install fiftyone ffmpeg"
      ],
      "metadata": {
        "id": "ciX0cJ1fEtEN"
      },
      "id": "ciX0cJ1fEtEN",
      "execution_count": null,
      "outputs": []
    },
    {
      "cell_type": "code",
      "execution_count": 2,
      "id": "5dd8e040-d97e-4311-b19f-9af084caa259",
      "metadata": {
        "id": "5dd8e040-d97e-4311-b19f-9af084caa259"
      },
      "outputs": [],
      "source": [
        "import fiftyone as fo\n",
        "import fiftyone.zoo as foz"
      ]
    },
    {
      "cell_type": "code",
      "execution_count": 3,
      "id": "a3d5f16e-041e-40bf-8273-2f3f510d9435",
      "metadata": {
        "colab": {
          "base_uri": "https://localhost:8080/"
        },
        "id": "a3d5f16e-041e-40bf-8273-2f3f510d9435",
        "outputId": "31372127-e344-4cd8-b060-3fe55643edd1"
      },
      "outputs": [
        {
          "output_type": "stream",
          "name": "stdout",
          "text": [
            "[]\n"
          ]
        }
      ],
      "source": [
        "print(fo.list_datasets())"
      ]
    },
    {
      "cell_type": "markdown",
      "id": "70daec9e-646f-4d9f-ae10-66e69b9d47fa",
      "metadata": {
        "id": "70daec9e-646f-4d9f-ae10-66e69b9d47fa"
      },
      "source": [
        "# Dataset"
      ]
    },
    {
      "cell_type": "markdown",
      "id": "ead5420d-029d-4326-8d11-a00ea97bb31f",
      "metadata": {
        "id": "ead5420d-029d-4326-8d11-a00ea97bb31f"
      },
      "source": [
        "### Loading dataset zoo provided by FiftyOne\n",
        "\n",
        "Also check the documentation"
      ]
    },
    {
      "cell_type": "code",
      "execution_count": 4,
      "id": "3e998c14-2c87-4203-b2d6-4f6fad05b46c",
      "metadata": {
        "scrolled": true,
        "id": "3e998c14-2c87-4203-b2d6-4f6fad05b46c"
      },
      "outputs": [],
      "source": [
        "foz.load_zoo_dataset?"
      ]
    },
    {
      "cell_type": "markdown",
      "id": "de1f344d-9b67-4ec5-9cce-b9e321d98104",
      "metadata": {
        "id": "de1f344d-9b67-4ec5-9cce-b9e321d98104"
      },
      "source": [
        "## Load name"
      ]
    },
    {
      "cell_type": "markdown",
      "id": "d9508fde-10d9-4ef6-8af5-4810bab4ffe9",
      "metadata": {
        "id": "d9508fde-10d9-4ef6-8af5-4810bab4ffe9"
      },
      "source": [
        "### Load new/overwrite existing\n",
        "\n",
        "Use this line to load the dataset if there are no loaded datasets in `fo.list_datasets()`."
      ]
    },
    {
      "cell_type": "code",
      "execution_count": 4,
      "id": "c85672ad-c255-4a7d-b8a9-5bb477b26ec8",
      "metadata": {
        "id": "c85672ad-c255-4a7d-b8a9-5bb477b26ec8",
        "outputId": "c0c4671b-ab5a-4e8a-bbe8-39bf65277928",
        "colab": {
          "base_uri": "https://localhost:8080/"
        }
      },
      "outputs": [
        {
          "output_type": "stream",
          "name": "stdout",
          "text": [
            "Downloading dataset to '/root/fiftyone/quickstart-video'\n"
          ]
        },
        {
          "output_type": "stream",
          "name": "stderr",
          "text": [
            "INFO:fiftyone.zoo.datasets:Downloading dataset to '/root/fiftyone/quickstart-video'\n"
          ]
        },
        {
          "output_type": "stream",
          "name": "stdout",
          "text": [
            "Downloading dataset...\n"
          ]
        },
        {
          "output_type": "stream",
          "name": "stderr",
          "text": [
            "INFO:fiftyone.zoo.datasets.base:Downloading dataset...\n"
          ]
        },
        {
          "output_type": "stream",
          "name": "stdout",
          "text": [
            " 100% |████|  281.7Mb/281.7Mb [960.1ms elapsed, 0s remaining, 293.4Mb/s]      \n"
          ]
        },
        {
          "output_type": "stream",
          "name": "stderr",
          "text": [
            "INFO:eta.core.utils: 100% |████|  281.7Mb/281.7Mb [960.1ms elapsed, 0s remaining, 293.4Mb/s]      \n"
          ]
        },
        {
          "output_type": "stream",
          "name": "stdout",
          "text": [
            "Extracting dataset...\n"
          ]
        },
        {
          "output_type": "stream",
          "name": "stderr",
          "text": [
            "INFO:fiftyone.zoo.datasets.base:Extracting dataset...\n"
          ]
        },
        {
          "output_type": "stream",
          "name": "stdout",
          "text": [
            "Parsing dataset metadata\n"
          ]
        },
        {
          "output_type": "stream",
          "name": "stderr",
          "text": [
            "INFO:fiftyone.zoo.datasets.base:Parsing dataset metadata\n"
          ]
        },
        {
          "output_type": "stream",
          "name": "stdout",
          "text": [
            "Found 10 samples\n"
          ]
        },
        {
          "output_type": "stream",
          "name": "stderr",
          "text": [
            "INFO:fiftyone.zoo.datasets.base:Found 10 samples\n"
          ]
        },
        {
          "output_type": "stream",
          "name": "stdout",
          "text": [
            "Dataset info written to '/root/fiftyone/quickstart-video/info.json'\n"
          ]
        },
        {
          "output_type": "stream",
          "name": "stderr",
          "text": [
            "INFO:fiftyone.zoo.datasets:Dataset info written to '/root/fiftyone/quickstart-video/info.json'\n"
          ]
        },
        {
          "output_type": "stream",
          "name": "stdout",
          "text": [
            "Loading 'quickstart-video'\n"
          ]
        },
        {
          "output_type": "stream",
          "name": "stderr",
          "text": [
            "INFO:fiftyone.zoo.datasets:Loading 'quickstart-video'\n"
          ]
        },
        {
          "output_type": "stream",
          "name": "stdout",
          "text": [
            " 100% |███████████████████| 10/10 [18.9s elapsed, 0s remaining, 0.5 samples/s]     \n"
          ]
        },
        {
          "output_type": "stream",
          "name": "stderr",
          "text": [
            "INFO:eta.core.utils: 100% |███████████████████| 10/10 [18.9s elapsed, 0s remaining, 0.5 samples/s]     \n"
          ]
        },
        {
          "output_type": "stream",
          "name": "stdout",
          "text": [
            "Dataset 'quickstart-video' created\n"
          ]
        },
        {
          "output_type": "stream",
          "name": "stderr",
          "text": [
            "INFO:fiftyone.zoo.datasets:Dataset 'quickstart-video' created\n"
          ]
        }
      ],
      "source": [
        "# quickstart dataset\n",
        "# dataset_dir = \"D:\\\\dataset_d\\\\fiftyone_quickstart_video\"\n",
        "dataset = foz.load_zoo_dataset(\"quickstart-video\", progress=True, overwrite=True)"
      ]
    },
    {
      "cell_type": "code",
      "execution_count": 5,
      "id": "e61fd023-bd96-4698-834b-141c7faff47e",
      "metadata": {
        "colab": {
          "base_uri": "https://localhost:8080/"
        },
        "id": "e61fd023-bd96-4698-834b-141c7faff47e",
        "outputId": "d0834252-095d-4929-a6a9-c43d68523fdb"
      },
      "outputs": [
        {
          "output_type": "stream",
          "name": "stdout",
          "text": [
            "['quickstart-video']\n"
          ]
        }
      ],
      "source": [
        "print(fo.list_datasets())"
      ]
    },
    {
      "cell_type": "markdown",
      "id": "1c628671-f730-48d0-8b6e-449f7cd304d9",
      "metadata": {
        "id": "1c628671-f730-48d0-8b6e-449f7cd304d9"
      },
      "source": [
        "### Load existing\n",
        "\n",
        "If there are at least one or multiple datasets, use this code instead."
      ]
    },
    {
      "cell_type": "code",
      "execution_count": 7,
      "id": "6358f5f2-0449-4b27-baed-6e42394da9ea",
      "metadata": {
        "id": "6358f5f2-0449-4b27-baed-6e42394da9ea"
      },
      "outputs": [],
      "source": [
        "dataset = fo.load_dataset(\"quickstart-video\")"
      ]
    },
    {
      "cell_type": "markdown",
      "id": "6dc83f23-2fee-44d2-bb01-08f95b2cde34",
      "metadata": {
        "id": "6dc83f23-2fee-44d2-bb01-08f95b2cde34"
      },
      "source": [
        "## Print dataset specification"
      ]
    },
    {
      "cell_type": "code",
      "execution_count": 6,
      "id": "af5e7685-bc4f-487f-8958-084e8e800851",
      "metadata": {
        "colab": {
          "base_uri": "https://localhost:8080/"
        },
        "id": "af5e7685-bc4f-487f-8958-084e8e800851",
        "outputId": "c60ffe08-a913-4643-bc65-4342970616b0"
      },
      "outputs": [
        {
          "output_type": "stream",
          "name": "stdout",
          "text": [
            "video\n"
          ]
        }
      ],
      "source": [
        "print(dataset.media_type)"
      ]
    },
    {
      "cell_type": "code",
      "execution_count": 7,
      "id": "bd099d0b-e7de-4f4e-a45b-d448110c49b3",
      "metadata": {
        "colab": {
          "base_uri": "https://localhost:8080/"
        },
        "id": "bd099d0b-e7de-4f4e-a45b-d448110c49b3",
        "outputId": "4d4a4f40-79f8-4a1d-d9f7-0b3138de073d"
      },
      "outputs": [
        {
          "output_type": "stream",
          "name": "stdout",
          "text": [
            "Name:        quickstart-video\n",
            "Media type:  video\n",
            "Num samples: 10\n",
            "Persistent:  False\n",
            "Tags:        []\n",
            "Sample fields:\n",
            "    id:               fiftyone.core.fields.ObjectIdField\n",
            "    filepath:         fiftyone.core.fields.StringField\n",
            "    tags:             fiftyone.core.fields.ListField(fiftyone.core.fields.StringField)\n",
            "    metadata:         fiftyone.core.fields.EmbeddedDocumentField(fiftyone.core.metadata.VideoMetadata)\n",
            "    created_at:       fiftyone.core.fields.DateTimeField\n",
            "    last_modified_at: fiftyone.core.fields.DateTimeField\n",
            "Frame fields:\n",
            "    id:               fiftyone.core.fields.ObjectIdField\n",
            "    frame_number:     fiftyone.core.fields.FrameNumberField\n",
            "    created_at:       fiftyone.core.fields.DateTimeField\n",
            "    last_modified_at: fiftyone.core.fields.DateTimeField\n",
            "    detections:       fiftyone.core.fields.EmbeddedDocumentField(fiftyone.core.labels.Detections)\n"
          ]
        }
      ],
      "source": [
        "print(dataset)"
      ]
    },
    {
      "cell_type": "markdown",
      "id": "a79f3ba6-fd5c-4a51-9d01-31204f9452fe",
      "metadata": {
        "id": "a79f3ba6-fd5c-4a51-9d01-31204f9452fe"
      },
      "source": [
        "## Delete dataset (optional)\n",
        "\n",
        "Delete the loaded dataset."
      ]
    },
    {
      "cell_type": "code",
      "execution_count": null,
      "id": "a7e9c353-9691-41ba-b28d-db33aad9894a",
      "metadata": {
        "id": "a7e9c353-9691-41ba-b28d-db33aad9894a"
      },
      "outputs": [],
      "source": [
        "dataset.delete()"
      ]
    },
    {
      "cell_type": "markdown",
      "source": [
        "# FiftyOne Session Viewer"
      ],
      "metadata": {
        "id": "qQsrhUFbrZR4"
      },
      "id": "qQsrhUFbrZR4"
    },
    {
      "cell_type": "markdown",
      "id": "1212e34d-eb40-4f17-8e07-647720483870",
      "metadata": {
        "id": "1212e34d-eb40-4f17-8e07-647720483870"
      },
      "source": [
        "## Start app"
      ]
    },
    {
      "cell_type": "code",
      "execution_count": null,
      "id": "67a6e827-2513-4509-ac28-0513d31de1eb",
      "metadata": {
        "id": "67a6e827-2513-4509-ac28-0513d31de1eb"
      },
      "outputs": [],
      "source": [
        "session = fo.launch_app(dataset)"
      ]
    },
    {
      "cell_type": "markdown",
      "source": [
        "## Close app (optional)"
      ],
      "metadata": {
        "id": "nMG5RzWQFSXC"
      },
      "id": "nMG5RzWQFSXC"
    },
    {
      "cell_type": "code",
      "source": [
        "session.close()"
      ],
      "metadata": {
        "id": "9f5cU9hpFUEq"
      },
      "id": "9f5cU9hpFUEq",
      "execution_count": 26,
      "outputs": []
    },
    {
      "cell_type": "markdown",
      "id": "18798dae-bcf4-4d1b-88f4-d7c02a9e33ae",
      "metadata": {
        "id": "18798dae-bcf4-4d1b-88f4-d7c02a9e33ae"
      },
      "source": [
        "# Export Video to Video"
      ]
    },
    {
      "cell_type": "markdown",
      "id": "bf8f0253-cefa-463d-b1b7-e24d238080cd",
      "metadata": {
        "id": "bf8f0253-cefa-463d-b1b7-e24d238080cd"
      },
      "source": [
        "## Export (FiftyOneDataset)"
      ]
    },
    {
      "cell_type": "code",
      "execution_count": 8,
      "id": "314e73b8-4c83-4a46-9c28-f555ccdf7f0e",
      "metadata": {
        "colab": {
          "base_uri": "https://localhost:8080/"
        },
        "id": "314e73b8-4c83-4a46-9c28-f555ccdf7f0e",
        "outputId": "c7e4d363-aadf-4717-9737-ef1357ecc626"
      },
      "outputs": [
        {
          "output_type": "stream",
          "name": "stdout",
          "text": [
            "Exporting samples...\n"
          ]
        },
        {
          "output_type": "stream",
          "name": "stderr",
          "text": [
            "INFO:fiftyone.utils.data.exporters:Exporting samples...\n"
          ]
        },
        {
          "output_type": "stream",
          "name": "stdout",
          "text": [
            " 100% |██████████████████████| 10/10 [43.5ms elapsed, 0s remaining, 229.8 docs/s] \n"
          ]
        },
        {
          "output_type": "stream",
          "name": "stderr",
          "text": [
            "INFO:eta.core.utils: 100% |██████████████████████| 10/10 [43.5ms elapsed, 0s remaining, 229.8 docs/s] \n"
          ]
        },
        {
          "output_type": "stream",
          "name": "stdout",
          "text": [
            "Exporting frames...\n"
          ]
        },
        {
          "output_type": "stream",
          "name": "stderr",
          "text": [
            "INFO:fiftyone.utils.data.exporters:Exporting frames...\n"
          ]
        },
        {
          "output_type": "stream",
          "name": "stdout",
          "text": [
            " 100% |██████████████████| 1279/1279 [475.0ms elapsed, 0s remaining, 2.7K docs/s]      \n"
          ]
        },
        {
          "output_type": "stream",
          "name": "stderr",
          "text": [
            "INFO:eta.core.utils: 100% |██████████████████| 1279/1279 [475.0ms elapsed, 0s remaining, 2.7K docs/s]      \n"
          ]
        }
      ],
      "source": [
        "export_dir = \"/content/dataset-export/FiftyOneDataset\"\n",
        "\n",
        "# Export the dataset without copying the media files\n",
        "dataset.export(\n",
        "    export_dir=export_dir,\n",
        "    dataset_type=fo.types.FiftyOneDataset,\n",
        "    export_media=True\n",
        ")"
      ]
    },
    {
      "cell_type": "markdown",
      "source": [
        "### Checking JSON structure"
      ],
      "metadata": {
        "id": "zErR_2bSrpvj"
      },
      "id": "zErR_2bSrpvj"
    },
    {
      "cell_type": "code",
      "source": [
        "# open frames.json\n",
        "import json\n",
        "\n",
        "# Open and load the JSON file\n",
        "with open('/content/dataset-export/FiftyOneDataset/frames.json', 'r') as file:\n",
        "    data = json.load(file)\n",
        "\n",
        "# Pretty-print the JSON data\n",
        "pretty_json = json.dumps(data, indent=2)\n",
        "\n",
        "# Write the prettified JSON data to a new file\n",
        "with open('prettified_file.json', 'w') as file:\n",
        "    file.write(pretty_json)\n",
        "\n",
        "print(\"Prettified JSON data has been written to prettified_file.json\")\n"
      ],
      "metadata": {
        "colab": {
          "base_uri": "https://localhost:8080/"
        },
        "id": "8CFzUy5ctB8O",
        "outputId": "08330e51-df00-422e-bc4a-6ff8778ce73a"
      },
      "id": "8CFzUy5ctB8O",
      "execution_count": 10,
      "outputs": [
        {
          "output_type": "stream",
          "name": "stdout",
          "text": [
            "Prettified JSON data has been written to prettified_file.json\n"
          ]
        }
      ]
    },
    {
      "cell_type": "markdown",
      "id": "a3a0c2c5-d418-46a3-88d3-7644a7207c03",
      "metadata": {
        "id": "a3a0c2c5-d418-46a3-88d3-7644a7207c03"
      },
      "source": [
        "## Export (FiftyOneVideoLabelsDataset)"
      ]
    },
    {
      "cell_type": "code",
      "execution_count": 11,
      "id": "fc042a2e-23cf-4a28-b90b-62dfacc20f74",
      "metadata": {
        "scrolled": true,
        "id": "fc042a2e-23cf-4a28-b90b-62dfacc20f74",
        "outputId": "6627a840-363e-4695-b154-d71886ce4a2f",
        "colab": {
          "base_uri": "https://localhost:8080/"
        }
      },
      "outputs": [
        {
          "output_type": "stream",
          "name": "stdout",
          "text": [
            "Sample 0 ID: 6794e8337c14b249691a99d8\n",
            "120\n",
            "Sample 1 ID: 6794e8347c14b249691a9df4\n",
            "119\n",
            "Sample 2 ID: 6794e8357c14b249691aa4b5\n",
            "160\n",
            "Sample 3 ID: 6794e8377c14b249691aaa15\n",
            "160\n",
            "Sample 4 ID: 6794e8377c14b249691aab0e\n",
            "120\n",
            "Sample 5 ID: 6794e8387c14b249691aac8c\n",
            "120\n",
            "Sample 6 ID: 6794e8397c14b249691ab7cd\n",
            "120\n",
            "Sample 7 ID: 6794e83d7c14b249691aba28\n",
            "120\n",
            "Sample 8 ID: 6794e8407c14b249691abc6c\n",
            "120\n",
            "Sample 9 ID: 6794e8457c14b249691ac445\n",
            "120\n"
          ]
        }
      ],
      "source": [
        "# Iterate over the video samples\n",
        "for n, sample in enumerate(dataset):\n",
        "    # Get the sample ID\n",
        "    sample_id = sample.id\n",
        "    print(f\"Sample {n} ID: {sample_id}\")\n",
        "\n",
        "    # Get the frames of the video sample\n",
        "    frames = sample.frames\n",
        "    print(len(frames))\n",
        "\n",
        "    # # Iterate through the frames\n",
        "    # for frame_number, frame in frames.items():\n",
        "    #     print(f\"Frame number: {frame_number}\")\n",
        "\n",
        "    #     # Access frame-level fields\n",
        "    #     # print(len(frame.detections.detections)) # find amount of detections\n",
        "    #     # print(frame.detections.detections)"
      ]
    },
    {
      "cell_type": "code",
      "execution_count": 12,
      "id": "3ccd0fc0-a22e-4d04-af0d-7beb23b5cc4b",
      "metadata": {
        "id": "3ccd0fc0-a22e-4d04-af0d-7beb23b5cc4b",
        "outputId": "45fc894c-67f6-4b60-a645-440a34ce106a",
        "colab": {
          "base_uri": "https://localhost:8080/"
        }
      },
      "outputs": [
        {
          "output_type": "stream",
          "name": "stdout",
          "text": [
            " 100% |███████████████████| 10/10 [13.0s elapsed, 0s remaining, 0.7 samples/s]     \n"
          ]
        },
        {
          "output_type": "stream",
          "name": "stderr",
          "text": [
            "INFO:eta.core.utils: 100% |███████████████████| 10/10 [13.0s elapsed, 0s remaining, 0.7 samples/s]     \n"
          ]
        }
      ],
      "source": [
        "import fiftyone as fo\n",
        "\n",
        "# label_field = \"ground_truth\"  # for example\n",
        "label_field = \"frames.detections\"\n",
        "\n",
        "# Export the dataset\n",
        "dataset.export(\n",
        "    export_dir=\"/content/dataset-export/FiftyOneVideoLabelsDataset/\",\n",
        "    dataset_type=fo.types.FiftyOneVideoLabelsDataset,\n",
        "    label_field=label_field,\n",
        ")"
      ]
    },
    {
      "cell_type": "markdown",
      "source": [
        "## Export (FiftyOneTemporalDetectionDataset)"
      ],
      "metadata": {
        "id": "A8OeYWR4q0LR"
      },
      "id": "A8OeYWR4q0LR"
    },
    {
      "cell_type": "code",
      "source": [
        "# The dataset or view to export\n",
        "\n",
        "# Export labels using the basename of each image as keys\n",
        "dataset.export(\n",
        "    export_dir=\"/content/dataset-export/FiftyOneTemporalDetectionDataset/\",\n",
        "    dataset_type=fo.types.FiftyOneTemporalDetectionDataset,\n",
        "    label_field=label_field,\n",
        ")"
      ],
      "metadata": {
        "colab": {
          "base_uri": "https://localhost:8080/"
        },
        "id": "XT8HSu5Qq431",
        "outputId": "558ad3a2-ecea-4f0e-d541-e04095caf90c"
      },
      "id": "XT8HSu5Qq431",
      "execution_count": 13,
      "outputs": [
        {
          "output_type": "stream",
          "name": "stdout",
          "text": [
            " 100% |███████████████████| 10/10 [4.5s elapsed, 0s remaining, 2.1 samples/s]      \n"
          ]
        },
        {
          "output_type": "stream",
          "name": "stderr",
          "text": [
            "INFO:eta.core.utils: 100% |███████████████████| 10/10 [4.5s elapsed, 0s remaining, 2.1 samples/s]      \n"
          ]
        }
      ]
    },
    {
      "cell_type": "markdown",
      "source": [
        "# Export Video to Image"
      ],
      "metadata": {
        "id": "jiwfN44SYHoK"
      },
      "id": "jiwfN44SYHoK"
    },
    {
      "cell_type": "markdown",
      "source": [
        "## Converting Video to Frames\n",
        "\n",
        "Using [Frame Views](https://docs.voxel51.com/user_guide/using_views.html#frame-views)"
      ],
      "metadata": {
        "id": "zMiAHD3lsaRT"
      },
      "id": "zMiAHD3lsaRT"
    },
    {
      "cell_type": "code",
      "source": [
        "# Create a frames view for the entire dataset\n",
        "frames = dataset.clone(\"quickstart-video-frames\").to_frames(sample_frames=True)\n",
        "print(frames)\n",
        "\n",
        "# Verify that one sample per frame was created\n",
        "print(dataset.sum(\"metadata.total_frame_count\"))  # 1279\n",
        "print(len(frames))  # 1279"
      ],
      "metadata": {
        "colab": {
          "base_uri": "https://localhost:8080/"
        },
        "id": "GD1mxtfHsrs9",
        "outputId": "4d014d20-e8aa-4229-d8bb-307a5f620373"
      },
      "id": "GD1mxtfHsrs9",
      "execution_count": 31,
      "outputs": [
        {
          "output_type": "stream",
          "name": "stdout",
          "text": [
            " 100% |███████████████| 1279/1279 [46.7ms elapsed, 0s remaining, 27.4K samples/s]  \n"
          ]
        },
        {
          "output_type": "stream",
          "name": "stderr",
          "text": [
            "INFO:eta.core.utils: 100% |███████████████| 1279/1279 [46.7ms elapsed, 0s remaining, 27.4K samples/s]  \n"
          ]
        },
        {
          "output_type": "stream",
          "name": "stdout",
          "text": [
            "Dataset:     quickstart-video-frames\n",
            "Media type:  image\n",
            "Num samples: 1279\n",
            "Sample fields:\n",
            "    id:               fiftyone.core.fields.ObjectIdField\n",
            "    sample_id:        fiftyone.core.fields.ObjectIdField\n",
            "    filepath:         fiftyone.core.fields.StringField\n",
            "    frame_number:     fiftyone.core.fields.FrameNumberField\n",
            "    tags:             fiftyone.core.fields.ListField(fiftyone.core.fields.StringField)\n",
            "    metadata:         fiftyone.core.fields.EmbeddedDocumentField(fiftyone.core.metadata.ImageMetadata)\n",
            "    created_at:       fiftyone.core.fields.DateTimeField\n",
            "    last_modified_at: fiftyone.core.fields.DateTimeField\n",
            "    detections:       fiftyone.core.fields.EmbeddedDocumentField(fiftyone.core.labels.Detections)\n",
            "View stages:\n",
            "    1. ToFrames(config={'sample_frames': True})\n",
            "1279\n",
            "1279\n"
          ]
        }
      ]
    },
    {
      "cell_type": "markdown",
      "source": [
        "## Check session"
      ],
      "metadata": {
        "id": "6uSlKaXKuE-R"
      },
      "id": "6uSlKaXKuE-R"
    },
    {
      "cell_type": "code",
      "source": [
        "session.view = frames"
      ],
      "metadata": {
        "id": "tcaZdPqPuElS"
      },
      "id": "tcaZdPqPuElS",
      "execution_count": null,
      "outputs": []
    },
    {
      "cell_type": "code",
      "source": [
        "session.close()"
      ],
      "metadata": {
        "id": "4yZnKoFUzQk_"
      },
      "id": "4yZnKoFUzQk_",
      "execution_count": 39,
      "outputs": []
    },
    {
      "cell_type": "markdown",
      "source": [
        "## Export to image dataset (FiftyOneDataset)"
      ],
      "metadata": {
        "id": "f8MrWEmSzV22"
      },
      "id": "f8MrWEmSzV22"
    },
    {
      "cell_type": "code",
      "source": [
        "print(fo.list_datasets())"
      ],
      "metadata": {
        "colab": {
          "base_uri": "https://localhost:8080/"
        },
        "id": "4feprI4kzyQF",
        "outputId": "1bf98867-017c-4a8a-f358-3c56fbf75505"
      },
      "id": "4feprI4kzyQF",
      "execution_count": 34,
      "outputs": [
        {
          "output_type": "stream",
          "name": "stdout",
          "text": [
            "['quickstart-video', 'quickstart-video-frames']\n"
          ]
        }
      ]
    },
    {
      "cell_type": "code",
      "source": [
        "frames"
      ],
      "metadata": {
        "colab": {
          "base_uri": "https://localhost:8080/"
        },
        "id": "1WGi_Q4ZztIv",
        "outputId": "1f779707-377c-46a2-e6b2-2b94446b6c96"
      },
      "id": "1WGi_Q4ZztIv",
      "execution_count": 35,
      "outputs": [
        {
          "output_type": "execute_result",
          "data": {
            "text/plain": [
              "Dataset:     quickstart-video-frames\n",
              "Media type:  image\n",
              "Num samples: 1279\n",
              "Sample fields:\n",
              "    id:               fiftyone.core.fields.ObjectIdField\n",
              "    sample_id:        fiftyone.core.fields.ObjectIdField\n",
              "    filepath:         fiftyone.core.fields.StringField\n",
              "    frame_number:     fiftyone.core.fields.FrameNumberField\n",
              "    tags:             fiftyone.core.fields.ListField(fiftyone.core.fields.StringField)\n",
              "    metadata:         fiftyone.core.fields.EmbeddedDocumentField(fiftyone.core.metadata.ImageMetadata)\n",
              "    created_at:       fiftyone.core.fields.DateTimeField\n",
              "    last_modified_at: fiftyone.core.fields.DateTimeField\n",
              "    detections:       fiftyone.core.fields.EmbeddedDocumentField(fiftyone.core.labels.Detections)\n",
              "View stages:\n",
              "    1. ToFrames(config={'sample_frames': True})"
            ]
          },
          "metadata": {},
          "execution_count": 35
        }
      ]
    },
    {
      "cell_type": "code",
      "source": [
        "# Export the dataset\n",
        "frames.export(\n",
        "    export_dir=\"/content/dataset-export/FiftyOneDataset-videoframe\",\n",
        "    dataset_type=fo.types.FiftyOneDataset,\n",
        "    export_media=True\n",
        ")"
      ],
      "metadata": {
        "colab": {
          "base_uri": "https://localhost:8080/"
        },
        "id": "uYcTe_OJ0zcr",
        "outputId": "32f30777-d769-4e88-db05-5059affc051c"
      },
      "id": "uYcTe_OJ0zcr",
      "execution_count": 36,
      "outputs": [
        {
          "output_type": "stream",
          "name": "stdout",
          "text": [
            "Exporting samples...\n"
          ]
        },
        {
          "output_type": "stream",
          "name": "stderr",
          "text": [
            "INFO:fiftyone.utils.data.exporters:Exporting samples...\n"
          ]
        },
        {
          "output_type": "stream",
          "name": "stdout",
          "text": [
            " 100% |██████████████████| 1279/1279 [995.8ms elapsed, 0s remaining, 1.3K docs/s]       \n"
          ]
        },
        {
          "output_type": "stream",
          "name": "stderr",
          "text": [
            "INFO:eta.core.utils: 100% |██████████████████| 1279/1279 [995.8ms elapsed, 0s remaining, 1.3K docs/s]       \n"
          ]
        }
      ]
    },
    {
      "cell_type": "markdown",
      "id": "17d3b8f5-f648-47d7-a475-ee96ca70a6e8",
      "metadata": {
        "id": "17d3b8f5-f648-47d7-a475-ee96ca70a6e8"
      },
      "source": [
        "## Export to image dataset (MSCOCO)"
      ]
    },
    {
      "cell_type": "code",
      "execution_count": 37,
      "id": "63492c56-b442-4b89-8a0c-2355fd9a8e1f",
      "metadata": {
        "id": "63492c56-b442-4b89-8a0c-2355fd9a8e1f",
        "outputId": "539d42f7-2700-4ef6-b088-447d0ee3d79a",
        "colab": {
          "base_uri": "https://localhost:8080/"
        }
      },
      "outputs": [
        {
          "output_type": "stream",
          "name": "stdout",
          "text": [
            " 100% |███████████████| 1279/1279 [6.4m elapsed, 0s remaining, 2.2 samples/s]      \n"
          ]
        },
        {
          "output_type": "stream",
          "name": "stderr",
          "text": [
            "INFO:eta.core.utils: 100% |███████████████| 1279/1279 [6.4m elapsed, 0s remaining, 2.2 samples/s]      \n"
          ]
        },
        {
          "output_type": "stream",
          "name": "stdout",
          "text": [
            "export done\n"
          ]
        }
      ],
      "source": [
        "frames.export(\n",
        "    export_dir=\"/content/dataset-export/MSCOCO\",\n",
        "    dataset_type=fo.types.COCODetectionDataset,\n",
        "    label_field=\"detections\",\n",
        ")\n",
        "\n",
        "print(\"export done\")\n"
      ]
    },
    {
      "cell_type": "markdown",
      "id": "de0070f8-d451-4d9e-9d07-ab3b2965215f",
      "metadata": {
        "id": "de0070f8-d451-4d9e-9d07-ab3b2965215f"
      },
      "source": [
        "## Export (Ultralytics YOLO)\n",
        "\n",
        "Still Work in Progress"
      ]
    },
    {
      "cell_type": "code",
      "execution_count": 38,
      "id": "7f29c3a1-5e43-4660-9878-c2cbf0eccc59",
      "metadata": {
        "scrolled": true,
        "id": "7f29c3a1-5e43-4660-9878-c2cbf0eccc59",
        "outputId": "773e68da-be5e-4087-f388-6f01ea8c48d5",
        "colab": {
          "base_uri": "https://localhost:8080/"
        }
      },
      "outputs": [
        {
          "output_type": "stream",
          "name": "stdout",
          "text": [
            " 100% |███████████████| 1279/1279 [7.8s elapsed, 0s remaining, 89.1 samples/s]        \n"
          ]
        },
        {
          "output_type": "stream",
          "name": "stderr",
          "text": [
            "INFO:eta.core.utils: 100% |███████████████| 1279/1279 [7.8s elapsed, 0s remaining, 89.1 samples/s]        \n"
          ]
        },
        {
          "output_type": "stream",
          "name": "stdout",
          "text": [
            "export done\n"
          ]
        }
      ],
      "source": [
        "# Export the filtered train dataset in YOLO format\n",
        "frames.export(\n",
        "    export_dir=\"/content/dataset-export/Ultralytics\",\n",
        "    dataset_type=fo.types.YOLOv5Dataset,\n",
        "    label_field=\"detections\"\n",
        ")\n",
        "\n",
        "print(\"export done\")"
      ]
    },
    {
      "cell_type": "code",
      "source": [],
      "metadata": {
        "id": "btAALtOf35Mf"
      },
      "id": "btAALtOf35Mf",
      "execution_count": null,
      "outputs": []
    }
  ],
  "metadata": {
    "kernelspec": {
      "display_name": "Python 3 (ipykernel)",
      "language": "python",
      "name": "python3"
    },
    "language_info": {
      "codemirror_mode": {
        "name": "ipython",
        "version": 3
      },
      "file_extension": ".py",
      "mimetype": "text/x-python",
      "name": "python",
      "nbconvert_exporter": "python",
      "pygments_lexer": "ipython3",
      "version": "3.11.10"
    },
    "colab": {
      "provenance": [],
      "toc_visible": true,
      "include_colab_link": true
    }
  },
  "nbformat": 4,
  "nbformat_minor": 5
}