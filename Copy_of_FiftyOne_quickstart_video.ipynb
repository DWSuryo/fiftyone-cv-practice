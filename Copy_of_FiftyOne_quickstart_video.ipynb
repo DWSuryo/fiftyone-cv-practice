{
  "cells": [
    {
      "cell_type": "markdown",
      "metadata": {
        "id": "view-in-github",
        "colab_type": "text"
      },
      "source": [
        "<a href=\"https://colab.research.google.com/github/DWSuryo/fiftyone-cv-practice/blob/main/Copy_of_FiftyOne_quickstart_video.ipynb\" target=\"_parent\"><img src=\"https://colab.research.google.com/assets/colab-badge.svg\" alt=\"Open In Colab\"/></a>"
      ]
    },
    {
      "cell_type": "markdown",
      "id": "22c61f12-0fa2-4984-b72b-3f1389f3b54b",
      "metadata": {
        "id": "22c61f12-0fa2-4984-b72b-3f1389f3b54b"
      },
      "source": [
        "# FiftyOne video walkthrough (quickstart_video)"
      ]
    },
    {
      "cell_type": "markdown",
      "source": [
        "## FiftyOne Installation\n",
        "\n",
        "Also installing ffmpeg for viewing video dataset"
      ],
      "metadata": {
        "id": "-paFeXP3EoRH"
      },
      "id": "-paFeXP3EoRH"
    },
    {
      "cell_type": "code",
      "source": [
        "!pip install fiftyone ffmpeg"
      ],
      "metadata": {
        "id": "ciX0cJ1fEtEN"
      },
      "id": "ciX0cJ1fEtEN",
      "execution_count": null,
      "outputs": []
    },
    {
      "cell_type": "code",
      "execution_count": 2,
      "id": "5dd8e040-d97e-4311-b19f-9af084caa259",
      "metadata": {
        "id": "5dd8e040-d97e-4311-b19f-9af084caa259"
      },
      "outputs": [],
      "source": [
        "import fiftyone as fo\n",
        "import fiftyone.zoo as foz"
      ]
    },
    {
      "cell_type": "code",
      "execution_count": 3,
      "id": "a3d5f16e-041e-40bf-8273-2f3f510d9435",
      "metadata": {
        "colab": {
          "base_uri": "https://localhost:8080/"
        },
        "id": "a3d5f16e-041e-40bf-8273-2f3f510d9435",
        "outputId": "2b2648db-d201-4125-83c7-c5314a6f461d"
      },
      "outputs": [
        {
          "output_type": "stream",
          "name": "stdout",
          "text": [
            "[]\n"
          ]
        }
      ],
      "source": [
        "print(fo.list_datasets())"
      ]
    },
    {
      "cell_type": "markdown",
      "id": "70daec9e-646f-4d9f-ae10-66e69b9d47fa",
      "metadata": {
        "id": "70daec9e-646f-4d9f-ae10-66e69b9d47fa"
      },
      "source": [
        "# Dataset"
      ]
    },
    {
      "cell_type": "markdown",
      "id": "ead5420d-029d-4326-8d11-a00ea97bb31f",
      "metadata": {
        "id": "ead5420d-029d-4326-8d11-a00ea97bb31f"
      },
      "source": [
        "### Loading dataset zoo provided by FiftyOne\n",
        "\n",
        "Also check the documentation"
      ]
    },
    {
      "cell_type": "code",
      "execution_count": 4,
      "id": "3e998c14-2c87-4203-b2d6-4f6fad05b46c",
      "metadata": {
        "scrolled": true,
        "id": "3e998c14-2c87-4203-b2d6-4f6fad05b46c"
      },
      "outputs": [],
      "source": [
        "foz.load_zoo_dataset?"
      ]
    },
    {
      "cell_type": "markdown",
      "id": "de1f344d-9b67-4ec5-9cce-b9e321d98104",
      "metadata": {
        "id": "de1f344d-9b67-4ec5-9cce-b9e321d98104"
      },
      "source": [
        "## Load name"
      ]
    },
    {
      "cell_type": "markdown",
      "id": "d9508fde-10d9-4ef6-8af5-4810bab4ffe9",
      "metadata": {
        "id": "d9508fde-10d9-4ef6-8af5-4810bab4ffe9"
      },
      "source": [
        "### Load new/overwrite existing"
      ]
    },
    {
      "cell_type": "code",
      "execution_count": 5,
      "id": "c85672ad-c255-4a7d-b8a9-5bb477b26ec8",
      "metadata": {
        "id": "c85672ad-c255-4a7d-b8a9-5bb477b26ec8",
        "outputId": "57ae52e3-096c-41d6-ee4c-497da39c09fe",
        "colab": {
          "base_uri": "https://localhost:8080/"
        }
      },
      "outputs": [
        {
          "output_type": "stream",
          "name": "stdout",
          "text": [
            "Downloading dataset to '/root/fiftyone/quickstart-video'\n"
          ]
        },
        {
          "output_type": "stream",
          "name": "stderr",
          "text": [
            "INFO:fiftyone.zoo.datasets:Downloading dataset to '/root/fiftyone/quickstart-video'\n"
          ]
        },
        {
          "output_type": "stream",
          "name": "stdout",
          "text": [
            "Downloading dataset...\n"
          ]
        },
        {
          "output_type": "stream",
          "name": "stderr",
          "text": [
            "INFO:fiftyone.zoo.datasets.base:Downloading dataset...\n"
          ]
        },
        {
          "output_type": "stream",
          "name": "stdout",
          "text": [
            " 100% |████|  281.7Mb/281.7Mb [359.2ms elapsed, 0s remaining, 784.1Mb/s]      \n"
          ]
        },
        {
          "output_type": "stream",
          "name": "stderr",
          "text": [
            "INFO:eta.core.utils: 100% |████|  281.7Mb/281.7Mb [359.2ms elapsed, 0s remaining, 784.1Mb/s]      \n"
          ]
        },
        {
          "output_type": "stream",
          "name": "stdout",
          "text": [
            "Extracting dataset...\n"
          ]
        },
        {
          "output_type": "stream",
          "name": "stderr",
          "text": [
            "INFO:fiftyone.zoo.datasets.base:Extracting dataset...\n"
          ]
        },
        {
          "output_type": "stream",
          "name": "stdout",
          "text": [
            "Parsing dataset metadata\n"
          ]
        },
        {
          "output_type": "stream",
          "name": "stderr",
          "text": [
            "INFO:fiftyone.zoo.datasets.base:Parsing dataset metadata\n"
          ]
        },
        {
          "output_type": "stream",
          "name": "stdout",
          "text": [
            "Found 10 samples\n"
          ]
        },
        {
          "output_type": "stream",
          "name": "stderr",
          "text": [
            "INFO:fiftyone.zoo.datasets.base:Found 10 samples\n"
          ]
        },
        {
          "output_type": "stream",
          "name": "stdout",
          "text": [
            "Dataset info written to '/root/fiftyone/quickstart-video/info.json'\n"
          ]
        },
        {
          "output_type": "stream",
          "name": "stderr",
          "text": [
            "INFO:fiftyone.zoo.datasets:Dataset info written to '/root/fiftyone/quickstart-video/info.json'\n"
          ]
        },
        {
          "output_type": "stream",
          "name": "stdout",
          "text": [
            "Loading 'quickstart-video'\n"
          ]
        },
        {
          "output_type": "stream",
          "name": "stderr",
          "text": [
            "INFO:fiftyone.zoo.datasets:Loading 'quickstart-video'\n"
          ]
        },
        {
          "output_type": "stream",
          "name": "stdout",
          "text": [
            " 100% |███████████████████| 10/10 [11.2s elapsed, 0s remaining, 0.8 samples/s]     \n"
          ]
        },
        {
          "output_type": "stream",
          "name": "stderr",
          "text": [
            "INFO:eta.core.utils: 100% |███████████████████| 10/10 [11.2s elapsed, 0s remaining, 0.8 samples/s]     \n"
          ]
        },
        {
          "output_type": "stream",
          "name": "stdout",
          "text": [
            "Dataset 'quickstart-video' created\n"
          ]
        },
        {
          "output_type": "stream",
          "name": "stderr",
          "text": [
            "INFO:fiftyone.zoo.datasets:Dataset 'quickstart-video' created\n"
          ]
        }
      ],
      "source": [
        "# quickstart dataset\n",
        "# dataset_dir = \"D:\\\\dataset_d\\\\fiftyone_quickstart_video\"\n",
        "dataset = foz.load_zoo_dataset(\"quickstart-video\", progress=True, overwrite=True)"
      ]
    },
    {
      "cell_type": "code",
      "execution_count": 6,
      "id": "e61fd023-bd96-4698-834b-141c7faff47e",
      "metadata": {
        "colab": {
          "base_uri": "https://localhost:8080/"
        },
        "id": "e61fd023-bd96-4698-834b-141c7faff47e",
        "outputId": "4dbd7154-1965-4e12-bbfd-afa54bc43977"
      },
      "outputs": [
        {
          "output_type": "stream",
          "name": "stdout",
          "text": [
            "['quickstart-video']\n"
          ]
        }
      ],
      "source": [
        "print(fo.list_datasets())"
      ]
    },
    {
      "cell_type": "markdown",
      "id": "1c628671-f730-48d0-8b6e-449f7cd304d9",
      "metadata": {
        "id": "1c628671-f730-48d0-8b6e-449f7cd304d9"
      },
      "source": [
        "### Load existing"
      ]
    },
    {
      "cell_type": "code",
      "execution_count": 7,
      "id": "6358f5f2-0449-4b27-baed-6e42394da9ea",
      "metadata": {
        "id": "6358f5f2-0449-4b27-baed-6e42394da9ea"
      },
      "outputs": [],
      "source": [
        "dataset = fo.load_dataset(\"quickstart-video\")"
      ]
    },
    {
      "cell_type": "markdown",
      "id": "6dc83f23-2fee-44d2-bb01-08f95b2cde34",
      "metadata": {
        "id": "6dc83f23-2fee-44d2-bb01-08f95b2cde34"
      },
      "source": [
        "## Print dataset specification"
      ]
    },
    {
      "cell_type": "code",
      "execution_count": 8,
      "id": "af5e7685-bc4f-487f-8958-084e8e800851",
      "metadata": {
        "colab": {
          "base_uri": "https://localhost:8080/"
        },
        "id": "af5e7685-bc4f-487f-8958-084e8e800851",
        "outputId": "a65a487e-357a-49c6-bc34-da6fe3fa2e73"
      },
      "outputs": [
        {
          "output_type": "stream",
          "name": "stdout",
          "text": [
            "video\n"
          ]
        }
      ],
      "source": [
        "print(dataset.media_type)"
      ]
    },
    {
      "cell_type": "code",
      "execution_count": 9,
      "id": "bd099d0b-e7de-4f4e-a45b-d448110c49b3",
      "metadata": {
        "colab": {
          "base_uri": "https://localhost:8080/"
        },
        "id": "bd099d0b-e7de-4f4e-a45b-d448110c49b3",
        "outputId": "25e2af18-1d96-43b1-ae86-cc69c38b5870"
      },
      "outputs": [
        {
          "output_type": "stream",
          "name": "stdout",
          "text": [
            "Name:        quickstart-video\n",
            "Media type:  video\n",
            "Num samples: 10\n",
            "Persistent:  False\n",
            "Tags:        []\n",
            "Sample fields:\n",
            "    id:               fiftyone.core.fields.ObjectIdField\n",
            "    filepath:         fiftyone.core.fields.StringField\n",
            "    tags:             fiftyone.core.fields.ListField(fiftyone.core.fields.StringField)\n",
            "    metadata:         fiftyone.core.fields.EmbeddedDocumentField(fiftyone.core.metadata.VideoMetadata)\n",
            "    created_at:       fiftyone.core.fields.DateTimeField\n",
            "    last_modified_at: fiftyone.core.fields.DateTimeField\n",
            "Frame fields:\n",
            "    id:               fiftyone.core.fields.ObjectIdField\n",
            "    frame_number:     fiftyone.core.fields.FrameNumberField\n",
            "    created_at:       fiftyone.core.fields.DateTimeField\n",
            "    last_modified_at: fiftyone.core.fields.DateTimeField\n",
            "    detections:       fiftyone.core.fields.EmbeddedDocumentField(fiftyone.core.labels.Detections)\n"
          ]
        }
      ],
      "source": [
        "print(dataset)"
      ]
    },
    {
      "cell_type": "markdown",
      "id": "a79f3ba6-fd5c-4a51-9d01-31204f9452fe",
      "metadata": {
        "id": "a79f3ba6-fd5c-4a51-9d01-31204f9452fe"
      },
      "source": [
        "## Delete dataset (optional)"
      ]
    },
    {
      "cell_type": "code",
      "execution_count": null,
      "id": "a7e9c353-9691-41ba-b28d-db33aad9894a",
      "metadata": {
        "id": "a7e9c353-9691-41ba-b28d-db33aad9894a"
      },
      "outputs": [],
      "source": [
        "dataset.delete()"
      ]
    },
    {
      "cell_type": "markdown",
      "id": "1212e34d-eb40-4f17-8e07-647720483870",
      "metadata": {
        "id": "1212e34d-eb40-4f17-8e07-647720483870"
      },
      "source": [
        "## Start app"
      ]
    },
    {
      "cell_type": "code",
      "execution_count": 10,
      "id": "67a6e827-2513-4509-ac28-0513d31de1eb",
      "metadata": {
        "id": "67a6e827-2513-4509-ac28-0513d31de1eb"
      },
      "outputs": [],
      "source": [
        "session = fo.launch_app(dataset)"
      ]
    },
    {
      "cell_type": "markdown",
      "source": [
        "## Close app (optional)"
      ],
      "metadata": {
        "id": "nMG5RzWQFSXC"
      },
      "id": "nMG5RzWQFSXC"
    },
    {
      "cell_type": "code",
      "source": [
        "session.close()"
      ],
      "metadata": {
        "id": "9f5cU9hpFUEq"
      },
      "id": "9f5cU9hpFUEq",
      "execution_count": 11,
      "outputs": []
    },
    {
      "cell_type": "markdown",
      "id": "18798dae-bcf4-4d1b-88f4-d7c02a9e33ae",
      "metadata": {
        "id": "18798dae-bcf4-4d1b-88f4-d7c02a9e33ae"
      },
      "source": [
        "# Export Video to Video"
      ]
    },
    {
      "cell_type": "markdown",
      "id": "bf8f0253-cefa-463d-b1b7-e24d238080cd",
      "metadata": {
        "id": "bf8f0253-cefa-463d-b1b7-e24d238080cd"
      },
      "source": [
        "## Export (FiftyOneDataset)"
      ]
    },
    {
      "cell_type": "code",
      "execution_count": 12,
      "id": "314e73b8-4c83-4a46-9c28-f555ccdf7f0e",
      "metadata": {
        "colab": {
          "base_uri": "https://localhost:8080/"
        },
        "id": "314e73b8-4c83-4a46-9c28-f555ccdf7f0e",
        "outputId": "a9ff8040-bb8a-4cf3-e0b2-d8ddf6bcd9f3"
      },
      "outputs": [
        {
          "output_type": "stream",
          "name": "stdout",
          "text": [
            "Exporting samples...\n"
          ]
        },
        {
          "output_type": "stream",
          "name": "stderr",
          "text": [
            "INFO:fiftyone.utils.data.exporters:Exporting samples...\n"
          ]
        },
        {
          "output_type": "stream",
          "name": "stdout",
          "text": [
            " 100% |██████████████████████| 10/10 [63.4ms elapsed, 0s remaining, 157.8 docs/s] \n"
          ]
        },
        {
          "output_type": "stream",
          "name": "stderr",
          "text": [
            "INFO:eta.core.utils: 100% |██████████████████████| 10/10 [63.4ms elapsed, 0s remaining, 157.8 docs/s] \n"
          ]
        },
        {
          "output_type": "stream",
          "name": "stdout",
          "text": [
            "Exporting frames...\n"
          ]
        },
        {
          "output_type": "stream",
          "name": "stderr",
          "text": [
            "INFO:fiftyone.utils.data.exporters:Exporting frames...\n"
          ]
        },
        {
          "output_type": "stream",
          "name": "stdout",
          "text": [
            " 100% |██████████████████| 1279/1279 [449.4ms elapsed, 0s remaining, 2.8K docs/s]      \n"
          ]
        },
        {
          "output_type": "stream",
          "name": "stderr",
          "text": [
            "INFO:eta.core.utils: 100% |██████████████████| 1279/1279 [449.4ms elapsed, 0s remaining, 2.8K docs/s]      \n"
          ]
        }
      ],
      "source": [
        "export_dir = \"/content/dataset-export/FiftyOneDataset\"\n",
        "\n",
        "# Export the dataset without copying the media files\n",
        "dataset.export(\n",
        "    export_dir=export_dir,\n",
        "    dataset_type=fo.types.FiftyOneDataset,\n",
        "    export_media=True\n",
        ")"
      ]
    },
    {
      "cell_type": "code",
      "source": [
        "# open frames.json\n",
        "import json\n",
        "\n",
        "# Open and load the JSON file\n",
        "with open('/content/dataset-export/FiftyOneDataset/frames.json', 'r') as file:\n",
        "    data = json.load(file)\n",
        "\n",
        "# Pretty-print the JSON data\n",
        "pretty_json = json.dumps(data, indent=2)\n",
        "\n",
        "# Write the prettified JSON data to a new file\n",
        "with open('frames_clean.json', 'w') as file:\n",
        "    file.write(pretty_json)\n",
        "\n",
        "print(\"Prettified JSON data has been written to prettified_file.json\")\n"
      ],
      "metadata": {
        "colab": {
          "base_uri": "https://localhost:8080/"
        },
        "id": "8CFzUy5ctB8O",
        "outputId": "4da87553-a6ac-411b-d15f-d740ed6bdd55"
      },
      "id": "8CFzUy5ctB8O",
      "execution_count": 28,
      "outputs": [
        {
          "output_type": "stream",
          "name": "stdout",
          "text": [
            "Prettified JSON data has been written to prettified_file.json\n"
          ]
        }
      ]
    },
    {
      "cell_type": "markdown",
      "id": "a3a0c2c5-d418-46a3-88d3-7644a7207c03",
      "metadata": {
        "id": "a3a0c2c5-d418-46a3-88d3-7644a7207c03"
      },
      "source": [
        "## Export (FiftyOneVideoLabelsDataset)"
      ]
    },
    {
      "cell_type": "code",
      "execution_count": 36,
      "id": "fc042a2e-23cf-4a28-b90b-62dfacc20f74",
      "metadata": {
        "scrolled": true,
        "id": "fc042a2e-23cf-4a28-b90b-62dfacc20f74",
        "outputId": "590f6f19-aeaf-42ca-be78-07789d76b780",
        "colab": {
          "base_uri": "https://localhost:8080/"
        }
      },
      "outputs": [
        {
          "output_type": "stream",
          "name": "stdout",
          "text": [
            "Sample 0 ID: 6794603de3a2a80861f31e60\n",
            "120\n",
            "Sample 1 ID: 6794603de3a2a80861f3227c\n",
            "119\n",
            "Sample 2 ID: 6794603fe3a2a80861f3293d\n",
            "160\n",
            "Sample 3 ID: 67946040e3a2a80861f32e9d\n",
            "160\n",
            "Sample 4 ID: 67946041e3a2a80861f32f96\n",
            "120\n",
            "Sample 5 ID: 67946042e3a2a80861f33114\n",
            "120\n",
            "Sample 6 ID: 67946043e3a2a80861f33c55\n",
            "120\n",
            "Sample 7 ID: 67946045e3a2a80861f33eb0\n",
            "120\n",
            "Sample 8 ID: 67946046e3a2a80861f340f4\n",
            "120\n",
            "Sample 9 ID: 67946047e3a2a80861f348cd\n",
            "120\n"
          ]
        }
      ],
      "source": [
        "# Iterate over the video samples\n",
        "for n, sample in enumerate(dataset):\n",
        "    # Get the sample ID\n",
        "    sample_id = sample.id\n",
        "    print(f\"Sample {n} ID: {sample_id}\")\n",
        "\n",
        "    # Get the frames of the video sample\n",
        "    frames = sample.frames\n",
        "    print(len(frames))\n",
        "\n",
        "    # # Iterate through the frames\n",
        "    # for frame_number, frame in frames.items():\n",
        "    #     print(f\"Frame number: {frame_number}\")\n",
        "\n",
        "    #     # Access frame-level fields\n",
        "    #     # print(len(frame.detections.detections)) # find amount of detections\n",
        "    #     # print(frame.detections.detections)"
      ]
    },
    {
      "cell_type": "code",
      "execution_count": 38,
      "id": "3ccd0fc0-a22e-4d04-af0d-7beb23b5cc4b",
      "metadata": {
        "id": "3ccd0fc0-a22e-4d04-af0d-7beb23b5cc4b",
        "outputId": "b17546c5-7d81-4b7c-bdb4-51989394e452",
        "colab": {
          "base_uri": "https://localhost:8080/"
        }
      },
      "outputs": [
        {
          "output_type": "stream",
          "name": "stdout",
          "text": [
            "Directory '/content/dataset-export/FiftyOneVideoLabelsDataset/' already exists; export will be merged with existing files\n"
          ]
        },
        {
          "output_type": "stream",
          "name": "stderr",
          "text": [
            "WARNING:fiftyone.core.collections:Directory '/content/dataset-export/FiftyOneVideoLabelsDataset/' already exists; export will be merged with existing files\n"
          ]
        },
        {
          "output_type": "stream",
          "name": "stdout",
          "text": [
            " 100% |███████████████████| 10/10 [5.0s elapsed, 0s remaining, 1.9 samples/s]      \n"
          ]
        },
        {
          "output_type": "stream",
          "name": "stderr",
          "text": [
            "INFO:eta.core.utils: 100% |███████████████████| 10/10 [5.0s elapsed, 0s remaining, 1.9 samples/s]      \n"
          ]
        }
      ],
      "source": [
        "import fiftyone as fo\n",
        "\n",
        "# label_field = \"ground_truth\"  # for example\n",
        "label_field = \"frames.detections\"\n",
        "\n",
        "# Export the dataset\n",
        "dataset.export(\n",
        "    export_dir=\"/content/dataset-export/FiftyOneVideoLabelsDataset/\",\n",
        "    dataset_type=fo.types.FiftyOneVideoLabelsDataset,\n",
        "    label_field=label_field,\n",
        ")"
      ]
    },
    {
      "cell_type": "markdown",
      "source": [
        "## Export (FiftyOneTemporalDetectionDataset)"
      ],
      "metadata": {
        "id": "A8OeYWR4q0LR"
      },
      "id": "A8OeYWR4q0LR"
    },
    {
      "cell_type": "code",
      "source": [
        "# The dataset or view to export\n",
        "\n",
        "# Export labels using the basename of each image as keys\n",
        "dataset.export(\n",
        "    export_dir=\"/content/dataset-export/FiftyOneTemporalDetectionDataset/\",\n",
        "    dataset_type=fo.types.FiftyOneTemporalDetectionDataset,\n",
        "    label_field=label_field,\n",
        ")"
      ],
      "metadata": {
        "colab": {
          "base_uri": "https://localhost:8080/"
        },
        "id": "XT8HSu5Qq431",
        "outputId": "8fc86a76-5fe6-4bb5-ab21-ca7a8cba89bb"
      },
      "id": "XT8HSu5Qq431",
      "execution_count": 31,
      "outputs": [
        {
          "output_type": "stream",
          "name": "stdout",
          "text": [
            "Directory '/content/dataset-export/FiftyOneTemporalDetectionDataset/' already exists; export will be merged with existing files\n"
          ]
        },
        {
          "output_type": "stream",
          "name": "stderr",
          "text": [
            "WARNING:fiftyone.core.collections:Directory '/content/dataset-export/FiftyOneTemporalDetectionDataset/' already exists; export will be merged with existing files\n"
          ]
        },
        {
          "output_type": "stream",
          "name": "stdout",
          "text": [
            " 100% |███████████████████| 10/10 [4.9s elapsed, 0s remaining, 1.9 samples/s]      \n"
          ]
        },
        {
          "output_type": "stream",
          "name": "stderr",
          "text": [
            "INFO:eta.core.utils: 100% |███████████████████| 10/10 [4.9s elapsed, 0s remaining, 1.9 samples/s]      \n"
          ]
        }
      ]
    },
    {
      "cell_type": "markdown",
      "source": [
        "# Export Video to Image"
      ],
      "metadata": {
        "id": "jiwfN44SYHoK"
      },
      "id": "jiwfN44SYHoK"
    },
    {
      "cell_type": "markdown",
      "id": "17d3b8f5-f648-47d7-a475-ee96ca70a6e8",
      "metadata": {
        "id": "17d3b8f5-f648-47d7-a475-ee96ca70a6e8"
      },
      "source": [
        "## Export to image dataset (MSCOCO)\n",
        "Needs to convert into image first"
      ]
    },
    {
      "cell_type": "code",
      "execution_count": 42,
      "id": "05ceae7e-cd60-427e-a759-1315ab7ddf28",
      "metadata": {
        "id": "05ceae7e-cd60-427e-a759-1315ab7ddf28"
      },
      "outputs": [],
      "source": [
        "import fiftyone as fo\n",
        "import fiftyone.zoo as foz\n",
        "import fiftyone.utils.video as fouv\n",
        "import fiftyone.core.collections as collections\n",
        "\n",
        "# # Load the quickstart-video dataset\n",
        "# video_dataset = foz.load_zoo_dataset(\"quickstart-video\")\n",
        "\n",
        "# Create a new dataset for the extracted frames\n",
        "image_dataset = fo.Dataset(\"quickstart-video-frames\", overwrite=True)"
      ]
    },
    {
      "cell_type": "code",
      "execution_count": 40,
      "id": "737d5991-2414-4403-94e8-a73dfdcd9be7",
      "metadata": {
        "id": "737d5991-2414-4403-94e8-a73dfdcd9be7",
        "outputId": "24c38656-6d83-48f9-e336-d90f7dafd947",
        "colab": {
          "base_uri": "https://localhost:8080/"
        }
      },
      "outputs": [
        {
          "output_type": "stream",
          "name": "stdout",
          "text": [
            " 100% |███████████████████| 10/10 [34.1s elapsed, 0s remaining, 0.3 samples/s]    \n"
          ]
        },
        {
          "output_type": "stream",
          "name": "stderr",
          "text": [
            "INFO:eta.core.utils: 100% |███████████████████| 10/10 [34.1s elapsed, 0s remaining, 0.3 samples/s]    \n"
          ]
        }
      ],
      "source": [
        "output_dir_image = \"/content/dataset-image/\"\n",
        "samples = fouv.sample_videos(\n",
        "    dataset,\n",
        "    output_dir=output_dir_image,\n",
        "    force_sample=True\n",
        ")"
      ]
    },
    {
      "cell_type": "code",
      "execution_count": 44,
      "id": "68ddda95-e9be-4498-b1c6-bf159dd7ca45",
      "metadata": {
        "id": "68ddda95-e9be-4498-b1c6-bf159dd7ca45",
        "outputId": "40c19e2f-5f36-48eb-d3f5-901762fb4cdc",
        "colab": {
          "base_uri": "https://localhost:8080/"
        }
      },
      "outputs": [
        {
          "output_type": "stream",
          "name": "stdout",
          "text": [
            "['/content/dataset-image/jjoOEAS7pB0_015-3', '/content/dataset-image/ZSbUmCNUfRs_001-4', '/content/dataset-image/xbzSaNGNQwI_008-1', '/content/dataset-image/0fvbpytzBOM_120', '/content/dataset-image/Ulcb3AjxM5g_053-1', '/content/dataset-image/xbzSaNGNQwI_008-3', '/content/dataset-image/mGL3LHsFckQ_001-4', '/content/dataset-image/0587e1cfc2344523922652d8b227fba4-000014-video_164', '/content/dataset-image/0587e1cfc2344523922652d8b227fba4-000014-video_052', '/content/dataset-image/0fvbpytzBOM_068']\n"
          ]
        }
      ],
      "source": [
        "import glob\n",
        "a = glob.glob(f\"{output_dir_image}*\")\n",
        "print(a)"
      ]
    },
    {
      "cell_type": "code",
      "source": [
        "for i in a:\n",
        "  x = glob.glob(f\"{i}/*\")\n",
        "  print(len(x))"
      ],
      "metadata": {
        "colab": {
          "base_uri": "https://localhost:8080/"
        },
        "id": "TGfVdMfiEVgX",
        "outputId": "0f75ed2c-6da3-4470-cadc-7abc4ba543ef"
      },
      "id": "TGfVdMfiEVgX",
      "execution_count": 49,
      "outputs": [
        {
          "output_type": "stream",
          "name": "stdout",
          "text": [
            "120\n",
            "120\n",
            "120\n",
            "160\n",
            "120\n",
            "120\n",
            "119\n",
            "120\n",
            "120\n",
            "160\n"
          ]
        }
      ]
    },
    {
      "cell_type": "code",
      "execution_count": null,
      "id": "507dd9f4-1075-44b5-933b-aa7a3c5dfd4d",
      "metadata": {
        "id": "507dd9f4-1075-44b5-933b-aa7a3c5dfd4d",
        "outputId": "b370bdbb-2880-42aa-dec0-f53c898ac678"
      },
      "outputs": [
        {
          "name": "stdout",
          "output_type": "stream",
          "text": [
            "C:\\Users\\Legion\\fiftyone\\quickstart-video\\data\\Ulcb3AjxM5g_053-1.mp4\n"
          ]
        },
        {
          "ename": "ValueError",
          "evalue": "Expected samples to be a <class 'fiftyone.core.collections.SampleCollection'>; found <class 'fiftyone.core.sample.Sample'>",
          "output_type": "error",
          "traceback": [
            "\u001b[1;31m---------------------------------------------------------------------------\u001b[0m",
            "\u001b[1;31mValueError\u001b[0m                                Traceback (most recent call last)",
            "Cell \u001b[1;32mIn[34], line 8\u001b[0m\n\u001b[0;32m      5\u001b[0m     \u001b[38;5;28mprint\u001b[39m(video_path)\n\u001b[0;32m      7\u001b[0m     \u001b[38;5;66;03m# Extract frames from the video\u001b[39;00m\n\u001b[1;32m----> 8\u001b[0m     frames \u001b[38;5;241m=\u001b[39m fouv\u001b[38;5;241m.\u001b[39msample_videos(\n\u001b[0;32m      9\u001b[0m         sample,\n\u001b[0;32m     10\u001b[0m         output_dir\u001b[38;5;241m=\u001b[39m\u001b[38;5;124m\"\u001b[39m\u001b[38;5;124mD:\u001b[39m\u001b[38;5;130;01m\\\\\u001b[39;00m\u001b[38;5;124mdataset_d\u001b[39m\u001b[38;5;130;01m\\\\\u001b[39;00m\u001b[38;5;124mquickstart-video-frames\u001b[39m\u001b[38;5;130;01m\\\\\u001b[39;00m\u001b[38;5;124m\"\u001b[39m,\n\u001b[0;32m     11\u001b[0m     )\n\u001b[0;32m     12\u001b[0m     \u001b[38;5;66;03m# print(frames)\u001b[39;00m\n\u001b[0;32m     13\u001b[0m     \u001b[38;5;66;03m# # Add frames to the new image dataset\u001b[39;00m\n\u001b[0;32m     14\u001b[0m     \u001b[38;5;66;03m# for frame_number, frame in frames.items():\u001b[39;00m\n\u001b[1;32m   (...)\u001b[0m\n\u001b[0;32m     29\u001b[0m \u001b[38;5;66;03m#     output_dir=output_dir\u001b[39;00m\n\u001b[0;32m     30\u001b[0m \u001b[38;5;66;03m# )\u001b[39;00m\n\u001b[0;32m     32\u001b[0m \u001b[38;5;28mprint\u001b[39m(\u001b[38;5;124mf\u001b[39m\u001b[38;5;124m\"\u001b[39m\u001b[38;5;124mSampled frames saved to \u001b[39m\u001b[38;5;132;01m{\u001b[39;00moutput_dir\u001b[38;5;132;01m}\u001b[39;00m\u001b[38;5;124m\"\u001b[39m)\n",
            "File \u001b[1;32m~\\anaconda3\\envs\\fiftyone\\Lib\\site-packages\\fiftyone\\utils\\video.py:423\u001b[0m, in \u001b[0;36msample_videos\u001b[1;34m(sample_collection, frames_patt, frames, fps, max_fps, size, min_size, max_size, original_frame_numbers, force_sample, media_field, output_field, output_dir, rel_dir, save_filepaths, delete_originals, skip_failures, verbose, progress, **kwargs)\u001b[0m\n\u001b[0;32m    297\u001b[0m \u001b[38;5;28;01mdef\u001b[39;00m \u001b[38;5;21msample_videos\u001b[39m(\n\u001b[0;32m    298\u001b[0m     sample_collection,\n\u001b[0;32m    299\u001b[0m     frames_patt\u001b[38;5;241m=\u001b[39m\u001b[38;5;28;01mNone\u001b[39;00m,\n\u001b[1;32m   (...)\u001b[0m\n\u001b[0;32m    317\u001b[0m     \u001b[38;5;241m*\u001b[39m\u001b[38;5;241m*\u001b[39mkwargs,\n\u001b[0;32m    318\u001b[0m ):\n\u001b[0;32m    319\u001b[0m \u001b[38;5;250m    \u001b[39m\u001b[38;5;124;03m\"\"\"Samples the videos in the sample collection into directories of\u001b[39;00m\n\u001b[0;32m    320\u001b[0m \u001b[38;5;124;03m    per-frame images according to the provided parameters using ``ffmpeg``.\u001b[39;00m\n\u001b[0;32m    321\u001b[0m \n\u001b[1;32m   (...)\u001b[0m\n\u001b[0;32m    421\u001b[0m \u001b[38;5;124;03m        **kwargs: keyword arguments for ``eta.core.video.FFmpeg(**kwargs)``\u001b[39;00m\n\u001b[0;32m    422\u001b[0m \u001b[38;5;124;03m    \"\"\"\u001b[39;00m\n\u001b[1;32m--> 423\u001b[0m     fov\u001b[38;5;241m.\u001b[39mvalidate_video_collection(sample_collection)\n\u001b[0;32m    425\u001b[0m     _transform_videos(\n\u001b[0;32m    426\u001b[0m         sample_collection,\n\u001b[0;32m    427\u001b[0m         frames\u001b[38;5;241m=\u001b[39mframes,\n\u001b[1;32m   (...)\u001b[0m\n\u001b[0;32m    446\u001b[0m         \u001b[38;5;241m*\u001b[39m\u001b[38;5;241m*\u001b[39mkwargs,\n\u001b[0;32m    447\u001b[0m     )\n",
            "File \u001b[1;32m~\\anaconda3\\envs\\fiftyone\\Lib\\site-packages\\fiftyone\\core\\validation.py:136\u001b[0m, in \u001b[0;36mvalidate_video_collection\u001b[1;34m(sample_collection)\u001b[0m\n\u001b[0;32m    125\u001b[0m \u001b[38;5;28;01mdef\u001b[39;00m \u001b[38;5;21mvalidate_video_collection\u001b[39m(sample_collection):\n\u001b[0;32m    126\u001b[0m \u001b[38;5;250m    \u001b[39m\u001b[38;5;124;03m\"\"\"Validates that the provided samples are a video\u001b[39;00m\n\u001b[0;32m    127\u001b[0m \u001b[38;5;124;03m    :class:`fiftyone.core.collections.SampleCollection`.\u001b[39;00m\n\u001b[0;32m    128\u001b[0m \n\u001b[1;32m   (...)\u001b[0m\n\u001b[0;32m    134\u001b[0m \u001b[38;5;124;03m        :class:`fiftyone.core.collections.SampleCollection`\u001b[39;00m\n\u001b[0;32m    135\u001b[0m \u001b[38;5;124;03m    \"\"\"\u001b[39;00m\n\u001b[1;32m--> 136\u001b[0m     validate_collection(sample_collection)\n\u001b[0;32m    138\u001b[0m     \u001b[38;5;28;01mif\u001b[39;00m sample_collection\u001b[38;5;241m.\u001b[39mmedia_type \u001b[38;5;241m==\u001b[39m fom\u001b[38;5;241m.\u001b[39mGROUP:\n\u001b[0;32m    139\u001b[0m         \u001b[38;5;28;01mraise\u001b[39;00m fom\u001b[38;5;241m.\u001b[39mSelectGroupSlicesError(fom\u001b[38;5;241m.\u001b[39mVIDEO)\n",
            "File \u001b[1;32m~\\anaconda3\\envs\\fiftyone\\Lib\\site-packages\\fiftyone\\core\\validation.py:66\u001b[0m, in \u001b[0;36mvalidate_collection\u001b[1;34m(sample_collection, media_type)\u001b[0m\n\u001b[0;32m     53\u001b[0m \u001b[38;5;250m\u001b[39m\u001b[38;5;124;03m\"\"\"Validates that the provided samples are a\u001b[39;00m\n\u001b[0;32m     54\u001b[0m \u001b[38;5;124;03m:class:`fiftyone.core.collections.SampleCollection`.\u001b[39;00m\n\u001b[0;32m     55\u001b[0m \n\u001b[1;32m   (...)\u001b[0m\n\u001b[0;32m     63\u001b[0m \u001b[38;5;124;03m    :class:`fiftyone.core.collections.SampleCollection`\u001b[39;00m\n\u001b[0;32m     64\u001b[0m \u001b[38;5;124;03m\"\"\"\u001b[39;00m\n\u001b[0;32m     65\u001b[0m \u001b[38;5;28;01mif\u001b[39;00m \u001b[38;5;129;01mnot\u001b[39;00m \u001b[38;5;28misinstance\u001b[39m(sample_collection, foc\u001b[38;5;241m.\u001b[39mSampleCollection):\n\u001b[1;32m---> 66\u001b[0m     \u001b[38;5;28;01mraise\u001b[39;00m \u001b[38;5;167;01mValueError\u001b[39;00m(\n\u001b[0;32m     67\u001b[0m         \u001b[38;5;124m\"\u001b[39m\u001b[38;5;124mExpected samples to be a \u001b[39m\u001b[38;5;132;01m%s\u001b[39;00m\u001b[38;5;124m; found \u001b[39m\u001b[38;5;132;01m%s\u001b[39;00m\u001b[38;5;124m\"\u001b[39m\n\u001b[0;32m     68\u001b[0m         \u001b[38;5;241m%\u001b[39m (foc\u001b[38;5;241m.\u001b[39mSampleCollection, sample_collection\u001b[38;5;241m.\u001b[39m\u001b[38;5;18m__class__\u001b[39m)\n\u001b[0;32m     69\u001b[0m     )\n\u001b[0;32m     71\u001b[0m \u001b[38;5;28;01mif\u001b[39;00m etau\u001b[38;5;241m.\u001b[39mis_container(media_type):\n\u001b[0;32m     72\u001b[0m     media_types \u001b[38;5;241m=\u001b[39m \u001b[38;5;28mset\u001b[39m(media_type)\n",
            "\u001b[1;31mValueError\u001b[0m: Expected samples to be a <class 'fiftyone.core.collections.SampleCollection'>; found <class 'fiftyone.core.sample.Sample'>"
          ]
        }
      ],
      "source": [
        "# Iterate over the video samples\n",
        "# print(type(dataset))\n",
        "for sample in dataset:\n",
        "    video_path = sample.filepath\n",
        "    print(video_path)\n",
        "\n",
        "    # Extract frames from the video\n",
        "    frames = fouv.sample_videos(\n",
        "        dataset,\n",
        "        output_dir=\"D:\\\\dataset_d\\\\quickstart-video-frames\\\\\",\n",
        "    )\n",
        "    # print(frames)\n",
        "    # # Add frames to the new image dataset\n",
        "    # for frame_number, frame in frames.items():\n",
        "    #     image_sample = fo.Sample(filepath=frame)\n",
        "    #     image_dataset.add_sample(image_sample)\n",
        "\n",
        "# import fiftyone as fo\n",
        "# import fiftyone.zoo as foz\n",
        "# import fiftyone.utils.video as fouv\n",
        "\n",
        "# # Specify the output directory to save the sampled frames\n",
        "# output_dir = \"D:\\\\dataset_d\\\\quickstart-video-frames\\\\\"\n",
        "\n",
        "# # Sample frames from the videos\n",
        "# samples = fouv.sample_videos(\n",
        "#     dataset,\n",
        "#     # every_n_frames=30,  # Sample one frame every 30 frames\n",
        "#     output_dir=output_dir\n",
        "# )\n",
        "\n",
        "print(f\"Sampled frames saved to {output_dir}\")"
      ]
    },
    {
      "cell_type": "code",
      "execution_count": null,
      "id": "bef4a10d-3723-4875-832c-95be449ee18c",
      "metadata": {
        "id": "bef4a10d-3723-4875-832c-95be449ee18c"
      },
      "outputs": [],
      "source": [
        "# Launch the FiftyOne app to view the image dataset\n",
        "session = fo.launch_app(image_dataset)"
      ]
    },
    {
      "cell_type": "code",
      "execution_count": null,
      "id": "63492c56-b442-4b89-8a0c-2355fd9a8e1f",
      "metadata": {
        "id": "63492c56-b442-4b89-8a0c-2355fd9a8e1f"
      },
      "outputs": [],
      "source": [
        "# # Define the export directories\n",
        "# train_export_dir = \"D:\\\\dataset_d\\\\mscoco-sama_person\\\\coco2017-sama_person_train\"\n",
        "# val_export_dir = \"D:\\\\dataset_d\\\\mscoco-sama_person\\\\coco2017-sama_person_val\"\n",
        "video_export_dir = \"D:\\\\dataset_d\\\\quickstart-video-test-coco\\\\\"\n",
        "\n",
        "dataset.export(\n",
        "    export_dir=video_export_dir,\n",
        "    dataset_type=fo.types.COCODetectionDataset,\n",
        "    label_field=\"detections\"\n",
        ")\n",
        "\n",
        "# # Export the filtered train dataset in COCO format\n",
        "# train_view.export(\n",
        "#     export_dir=val_export_dir,\n",
        "#     dataset_type=fo.types.COCODetectionDataset,\n",
        "#     label_field=\"detections\"\n",
        "# )\n",
        "\n",
        "# # Export the filtered validation dataset in COCO format\n",
        "# val_view.export(\n",
        "#     export_dir=val_export_dir,\n",
        "#     dataset_type=fo.types.COCODetectionDataset,\n",
        "#     label_field=\"detections\"\n",
        "# )\n",
        "print(\"export done\")\n"
      ]
    },
    {
      "cell_type": "code",
      "execution_count": null,
      "id": "87d84661-ef79-4afb-be4e-77803871ffaf",
      "metadata": {
        "id": "87d84661-ef79-4afb-be4e-77803871ffaf"
      },
      "outputs": [],
      "source": [
        "# dataset = foz.load_zoo_dataset(\n",
        "#     \"coco-2017\",\n",
        "#     split=[\"train\",\"val\"]\n",
        "#     label_types=[\"detections\", \"segmentations\"],\n",
        "#     classes=[\"person\"],\n",
        "#     # max_samples=50,\n",
        "# )"
      ]
    },
    {
      "cell_type": "markdown",
      "id": "de0070f8-d451-4d9e-9d07-ab3b2965215f",
      "metadata": {
        "id": "de0070f8-d451-4d9e-9d07-ab3b2965215f"
      },
      "source": [
        "## Export (Ultralytics YOLO)\n",
        "\n",
        "Still Work in Progress"
      ]
    },
    {
      "cell_type": "code",
      "execution_count": null,
      "id": "7f29c3a1-5e43-4660-9878-c2cbf0eccc59",
      "metadata": {
        "scrolled": true,
        "id": "7f29c3a1-5e43-4660-9878-c2cbf0eccc59"
      },
      "outputs": [],
      "source": [
        "# # Define the export directories\n",
        "train_export_dir = \"D:\\\\dataset_d\\\\mscoco-sama_person_yolo\\\\train\"\n",
        "val_export_dir = \"D:\\\\dataset_d\\\\mscoco-sama_person_yolo\\\\val\"\n",
        "\n",
        "# Export the filtered train dataset in YOLO format\n",
        "train_view.export(\n",
        "    export_dir=train_export_dir,\n",
        "    dataset_type=fo.types.YOLOv5Dataset,\n",
        "    label_field=\"detections\"\n",
        ")\n",
        "\n",
        "# Export the filtered validation dataset in YOLO format\n",
        "val_view.export(\n",
        "    export_dir=val_export_dir,\n",
        "    dataset_type=fo.types.YOLOv5Dataset,\n",
        "    label_field=\"detections\"\n",
        ")\n",
        "print(\"export done\")"
      ]
    }
  ],
  "metadata": {
    "kernelspec": {
      "display_name": "Python 3 (ipykernel)",
      "language": "python",
      "name": "python3"
    },
    "language_info": {
      "codemirror_mode": {
        "name": "ipython",
        "version": 3
      },
      "file_extension": ".py",
      "mimetype": "text/x-python",
      "name": "python",
      "nbconvert_exporter": "python",
      "pygments_lexer": "ipython3",
      "version": "3.11.10"
    },
    "colab": {
      "provenance": [],
      "collapsed_sections": [
        "d9508fde-10d9-4ef6-8af5-4810bab4ffe9"
      ],
      "toc_visible": true,
      "include_colab_link": true
    }
  },
  "nbformat": 4,
  "nbformat_minor": 5
}